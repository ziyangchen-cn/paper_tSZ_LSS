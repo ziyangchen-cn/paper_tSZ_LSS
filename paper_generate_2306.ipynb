{
 "cells": [
  {
   "cell_type": "code",
   "execution_count": 1,
   "id": "b9af93bc",
   "metadata": {},
   "outputs": [],
   "source": [
    "import sys\n",
    "import os\n",
    "import numpy as np\n",
    "import numba\n",
    "import h5py\n",
    "from tqdm import tqdm\n",
    "import matplotlib.pyplot as plt\n",
    "import matplotlib.colors as colors\n",
    "import matplotlib.cm as cmx\n",
    "%matplotlib inline \n",
    "%config InlineBackend.figure_format = 'svg'\n",
    "%config InlineBackend.figure_format = 'png'\n",
    "\n",
    "\n",
    "\n",
    "from colossus.lss import bias\n",
    "from colossus.lss import mass_function\n",
    "from colossus.cosmology import cosmology\n",
    "cosmology.setCosmology('planck15');\n",
    "\n",
    "from astropy.modeling import models, fitting\n",
    "import Pk_library as PKL\n",
    "\n",
    "\n",
    "import sys, os\n",
    "# Disable\n",
    "def blockPrint():\n",
    "    sys.stdout = open(os.devnull, 'w')\n",
    "# Restore\n",
    "def enablePrint():\n",
    "    sys.stdout = sys.__stdout__"
   ]
  },
  {
   "cell_type": "markdown",
   "id": "b8bf3a00",
   "metadata": {},
   "source": [
    "# bPe/Pe_mean "
   ]
  },
  {
   "cell_type": "markdown",
   "id": "0c511ead",
   "metadata": {},
   "source": [
    "## mag"
   ]
  },
  {
   "cell_type": "code",
   "execution_count": null,
   "id": "33af3483",
   "metadata": {},
   "outputs": [],
   "source": [
    "box_names   = [\"Box0\", \"Box0_meshes\",  \"Box1a\",  \"Box2b\"]\n",
    "meshfile_names  = [\"pe_meshes_0\", \"mag_pe_den_meshes_0\",\"pe_meshes_0\", \"pe_meshes_0\"]\n",
    "snap_no_mags= [np.arange(3, 15), np.array([6,7,8,9,10,11,12,14,17,21,25,29, 33, 37]), np.arange(2, 8), np.arange(7, 21)]\n",
    "def mev_cm3_2_Pa():\n",
    "    kg2ev_c2 = 1/(1.78*10**-36) #ev/c^2\n",
    "    c_speed = 3*10**5\n",
    "    h = 0.67\n",
    "    return 10**29 *h**2/(kg2ev_c2/c_speed**2 *h**2 *10**3) /10**17\n",
    "\n",
    "redshifts_mag = []\n",
    "Pe_means_mag = []\n",
    "bPes_mag = []\n",
    "for i in range(4):\n",
    "    box_name = box_names[i]\n",
    "    meshfile_name = meshfile_names[i]\n",
    "    snap_no_mag = snap_no_mags[i]\n",
    "    redshift = np.zeros(len(snap_no_mag))\n",
    "    Pe_mean = np.zeros(len(snap_no_mag))\n",
    "    bPe = np.zeros(len(snap_no_mag))\n",
    "    \n",
    "    for j in range(len(snap_no_mag)):\n",
    "        \n",
    "        file_name = \"/u/ziyang/data/Magneticum/\"+box_name+\"/\"+meshfile_name+str(snap_no_mag[j]).zfill(2)+\".hdf5\"\n",
    "        f = h5py.File(file_name)\n",
    "        #print(dict(f), f.attrs.keys())\n",
    "\n",
    "        if box_name == \"Box0_meshes\":\n",
    "            Boxsize = f['Header'].attrs['BoxSize']\n",
    "            redshift[j] = f['Header'].attrs[\"Redshift\"]\n",
    "        else:\n",
    "            Boxsize = f.attrs[\"BoxLength\"]\n",
    "            redshift[j] = f.attrs[\"Redshift\"]\n",
    "        #print(snap_no_mag[j], redshift[j])\n",
    "        #continue\n",
    "        Pe = f[\"ElectronPressure\"][:]\n",
    "        M = f[\"MatterDensity\"][:]\n",
    "        #Pe = Pe/np.mean(Pe)\n",
    "        M = M/np.mean(M)\n",
    "        Pe_mean[j] = np.mean(Pe)/mev_cm3_2_Pa()\n",
    "        \n",
    "        blockPrint()\n",
    "        Pk = PKL.XPk([M, Pe], Boxsize, axis=0, MAS=['CIC','CIC'], threads=1)\n",
    "        k_mag = Pk.k3D\n",
    "        pk_mm_mag=Pk.Pk[:,0,0]\n",
    "        pk_pepe_mag=Pk.Pk[:,0,1]\n",
    "        pk_pem_mag=Pk.XPk[:,0,0]\n",
    "        enablePrint()\n",
    "\n",
    "        label = np.where(k_mag<0.03)\n",
    "        bPe[j] = np.mean((pk_pem_mag/pk_mm_mag)[label])/mev_cm3_2_Pa()\n",
    "    \n",
    "    redshifts_mag.append(redshift)\n",
    "    Pe_means_mag.append(Pe_mean)\n",
    "    bPes_mag.append(bPe)\n",
    "    \n",
    "np.savez(\"bPe_Pe_mean_mag.npz\", simu_box = box_names, snap_no_mag=snap_no_mags, redshifts=redshifts_mag, Pe_means=Pe_means_mag, bPes=bPes_mag)"
   ]
  },
  {
   "cell_type": "code",
   "execution_count": 11,
   "id": "42eb38d7",
   "metadata": {},
   "outputs": [
    {
     "data": {
      "text/plain": [
       "array(['Box0', 'Box0_meshes', 'Box1a', 'Box2b'], dtype='<U11')"
      ]
     },
     "execution_count": 11,
     "metadata": {},
     "output_type": "execute_result"
    }
   ],
   "source": [
    "d = np.load(\"bPe_Pe_mean_mag.npz\", allow_pickle=True)\n",
    "d[\"simu_box\"]"
   ]
  },
  {
   "cell_type": "code",
   "execution_count": null,
   "id": "49ddfc42",
   "metadata": {},
   "outputs": [],
   "source": []
  },
  {
   "cell_type": "markdown",
   "id": "7dae7c16",
   "metadata": {},
   "source": [
    "## MTNG"
   ]
  },
  {
   "cell_type": "code",
   "execution_count": 2,
   "id": "5997b4b8",
   "metadata": {},
   "outputs": [],
   "source": [
    "#MTNG\n",
    "k_cut = 0.18\n",
    "degree = 2\n",
    "MAS = \"NGP\"\n",
    "grid = 128\n",
    "datadir = \"/u/ziyang/data/TSZ_MTNG/PK_deltape/\"\n",
    "simu_names = [\"MTNG-L125-1080-A\", \"MTNG-L31.25-270-A\", \"MTNG-L500-4320-A\", \"MTNG-L62.5-540-A\"]\n",
    "\n",
    "redshift2snapshot = {4:80, 3:94, 2:129, 1:179, 0.5:214, 0:264}\n",
    "redshifts = np.array([0, 0.5, 1, 2, 3, 4])\n",
    "simu_name = simu_names[2]\n",
    "\n",
    "\n",
    "by = np.zeros(len(redshifts))\n",
    "Pe_simu = np.zeros(len(redshifts))\n",
    "\n",
    "for i in [0,1,2,3,4, 5]:\n",
    "    snap_no = redshift2snapshot[redshifts[i]]\n",
    "    dataname = datadir+\"PK_deltape_\"+simu_name+\"_\"+str(snap_no)+\"_\"+MAS+\"_\"+str(grid)+\".npz\"\n",
    "    d=np.load(dataname)\n",
    "    k = d[\"k\"]\n",
    "    ratio = d[\"Pk_mPe\"]/d[\"Pk_mm\"]\n",
    "    Pe_simu[i] = d[\"Pe_mean\"]\n",
    "\n",
    "\n",
    "    model_poly = models.Polynomial1D(degree=degree)\n",
    "    fitter_poly = fitting.LinearLSQFitter()\n",
    "    label = np.where(k<k_cut)[0]\n",
    "    best_fit_poly = fitter_poly(model_poly, k[label]**2, ratio[label])#, weights = (N_mode[label]))\n",
    "    c0 = best_fit_poly.c0.value\n",
    "    by[i] = c0\n",
    "np.savez(\"bPe_Pe_mean_MTNG.npz\",  redshift2snapshot=redshift2snapshot,\n",
    "         redshifts=redshifts, Pe_means=Pe_simu, by=by)"
   ]
  },
  {
   "cell_type": "markdown",
   "id": "6013db0c",
   "metadata": {},
   "source": [
    "## ITNG"
   ]
  },
  {
   "cell_type": "code",
   "execution_count": 12,
   "id": "4d2bbbe5",
   "metadata": {},
   "outputs": [],
   "source": [
    "#ITNG\n",
    "k_cut = 0.4\n",
    "degree = 2\n",
    "datadir = \"/u/ziyang/data/TSZ_MTNG/PK_deltape/\"\n",
    "simu_names = [\"L205n1250TNG\",\"L205n2500TNG\",\"L205n625TNG\", \"L75n1820TNG\", \"L75n455TNG\", \"L75n910TNG\"]\n",
    "k_cuts = [0.18, 0.18, 0.18, 0.5, 0.5, 0.5]\n",
    "redshift2snapshot = {3:25, 2:33, 1:50, 0.5:67, 0:99}\n",
    "redshifts = np.array([0, 0.5, 1, 2, 3])\n",
    "MAS = \"NGP\"\n",
    "grid=128\n",
    "#simu_name = simu_names[1]\n",
    "\n",
    "Pe_simu = np.zeros((len(simu_names),len(redshifts)))\n",
    "by = np.zeros((len(simu_names),len(redshifts)))\n",
    "for j in range(len(simu_names)):\n",
    "    simu_name = simu_names[j]\n",
    "    k_cut = k_cuts[j]\n",
    "\n",
    "    for i in [0,1,2,3,4]:\n",
    "        snap_no = redshift2snapshot[redshifts[i]]\n",
    "\n",
    "        dataname = datadir+\"PK_deltape_\"+simu_name+\"_\"+str(snap_no)+\"_\"+MAS+\"_\"+str(grid)+\".npz\"\n",
    "        d=np.load(dataname)\n",
    "        k=d[\"k\"]\n",
    "        ratio = d[\"Pk_mPe\"]/d[\"Pk_mm\"]\n",
    "        Pe_simu[j,i] = d[\"Pe_mean\"]\n",
    "\n",
    "        model_poly = models.Polynomial1D(degree=degree)\n",
    "        fitter_poly = fitting.LinearLSQFitter()\n",
    "        label = np.where(k<k_cut)[0]\n",
    "        best_fit_poly = fitter_poly(model_poly, k[label]**2, ratio[label])#, weights = (N_mode[label]))\n",
    "        c0 = best_fit_poly.c0.value\n",
    "        by[j, i] = c0\n",
    "\n",
    "np.savez(\"bPe_Pe_mean_ITNG.npz\",  redshift2snapshot=redshift2snapshot,simu_names=simu_names,\n",
    "         redshifts=redshifts, Pe_means=Pe_simu, by=by)"
   ]
  },
  {
   "cell_type": "code",
   "execution_count": null,
   "id": "2173f55b",
   "metadata": {},
   "outputs": [],
   "source": []
  }
 ],
 "metadata": {
  "kernelspec": {
   "display_name": "Python 3 (ipykernel)",
   "language": "python",
   "name": "python3"
  },
  "language_info": {
   "codemirror_mode": {
    "name": "ipython",
    "version": 3
   },
   "file_extension": ".py",
   "mimetype": "text/x-python",
   "name": "python",
   "nbconvert_exporter": "python",
   "pygments_lexer": "ipython3",
   "version": "3.10.8"
  },
  "toc": {
   "base_numbering": 1,
   "nav_menu": {},
   "number_sections": true,
   "sideBar": true,
   "skip_h1_title": false,
   "title_cell": "Table of Contents",
   "title_sidebar": "Contents",
   "toc_cell": false,
   "toc_position": {},
   "toc_section_display": true,
   "toc_window_display": true
  }
 },
 "nbformat": 4,
 "nbformat_minor": 5
}
